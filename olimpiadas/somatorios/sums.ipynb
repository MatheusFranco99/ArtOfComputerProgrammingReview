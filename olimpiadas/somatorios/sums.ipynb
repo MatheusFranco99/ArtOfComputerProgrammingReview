{
 "cells": [
  {
   "cell_type": "code",
   "execution_count": 11,
   "metadata": {},
   "outputs": [],
   "source": [
    "def term(k):\n",
    "    return pow(6,k)/((pow(3,k) - pow(2,k)) * (pow(3,k+1) - pow(2,k+1)))\n",
    "\n",
    "def sum(n):\n",
    "    total = 0\n",
    "    for k in range(1,n+1):\n",
    "        total += term(k)\n",
    "    return total"
   ]
  },
  {
   "cell_type": "code",
   "execution_count": 15,
   "metadata": {},
   "outputs": [
    {
     "name": "stdout",
     "output_type": "stream",
     "text": [
      "1.9883037595874336\n",
      "1.9999999999999996\n",
      "1.9999999999999996\n",
      "1.9999999999999996\n"
     ]
    }
   ],
   "source": [
    "for limit in [10,100,1000,10000]:\n",
    "    print(sum(limit))\n"
   ]
  },
  {
   "cell_type": "code",
   "execution_count": 1,
   "metadata": {},
   "outputs": [],
   "source": [
    "\n",
    "def term(m,n):\n",
    "    return min(m,n)/pow(3,m+n)\n",
    "\n",
    "def sum(limit):\n",
    "    total = 0\n",
    "    for m in range(0, limit+1):\n",
    "        for n in range(0, limit+1):\n",
    "            total += term(m,n)\n",
    "    return total"
   ]
  },
  {
   "cell_type": "code",
   "execution_count": 2,
   "metadata": {},
   "outputs": [
    {
     "name": "stdout",
     "output_type": "stream",
     "text": [
      "0.28123729953557297\n",
      "0.2812499999999988\n",
      "0.2812499999999988\n"
     ]
    }
   ],
   "source": [
    "for limit in [10,100,1000]:\n",
    "    print(sum(limit))\n"
   ]
  }
 ],
 "metadata": {
  "kernelspec": {
   "display_name": "Python 3",
   "language": "python",
   "name": "python3"
  },
  "language_info": {
   "codemirror_mode": {
    "name": "ipython",
    "version": 3
   },
   "file_extension": ".py",
   "mimetype": "text/x-python",
   "name": "python",
   "nbconvert_exporter": "python",
   "pygments_lexer": "ipython3",
   "version": "3.11.4"
  }
 },
 "nbformat": 4,
 "nbformat_minor": 2
}
